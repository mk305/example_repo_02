{
 "cells": [
  {
   "cell_type": "code",
   "execution_count": 2,
   "id": "varied-celebration",
   "metadata": {},
   "outputs": [],
   "source": [
    "import matplotlib.pyplot as plt\n",
    "import pandas as pd\n"
   ]
  },
  {
   "cell_type": "code",
   "execution_count": 3,
   "id": "severe-thickness",
   "metadata": {},
   "outputs": [
    {
     "data": {
      "image/png": "[encoded data removed]",
      "text/plain": [
       "<Figure size 432x288 with 1 Axes>"
      ]
     },
     "metadata": {
      "needs_background": "light"
     },
     "output_type": "display_data"
    }
   ],
   "source": [
    "s2 = pd.Series([1,2,3,4,5,2,3,333,2,123,434,1,2,3,1,11,11,432,3,2,4,3,3,3,54,34,24,2,223,2535334,3,1,1,0,0,0,0,0,0,0,0,0,0,0,0,0,0,0,0,30000, 2,2,2,2,2,2,2,2,2,2,2,2,2,2,2,2,2,2,2,2,2,2,2,2,2,2,2,2,2,2,2])\n",
    "prob = s2.value_counts(normalize=True)\n",
    "threshold = 0.02\n",
    "mask = prob > threshold\n",
    "tail_prob = prob.loc[~mask].sum()\n",
    "prob = prob.loc[mask]\n",
    "prob['other'] = tail_prob\n",
    "prob.plot(kind='bar')\n",
    "plt.xticks(rotation=25)\n",
    "plt.show()"
   ]
  },
  {
   "cell_type": "code",
   "execution_count": 4,
   "id": "imperial-energy",
   "metadata": {},
   "outputs": [],
   "source": [
    "s2 = pd.Series([1,2,3,4,5,2,3,333,2,123,434,1,2,3,1,11,11,432,3,2,4,3,3,3,54,34,24,2,223,2535334,3,1,1,0,0,0,0,0,0,0,0,0,0,0,0,0,0,0,0,30000, 2,2,2,2,2,2,2,2,2,2,2,2,2,2,2,2,2,2,2,2,2,2,2,2,2,2,2,2,2,2,2])\n",
    "prob = s2.value_counts(normalize=True)\n",
    "threshold = 0.02\n",
    "mask = prob > threshold\n",
    "tail_prob = prob.loc[~mask].sum()\n",
    "prob1 = prob.loc[mask]"
   ]
  },
  {
   "cell_type": "code",
   "execution_count": 5,
   "id": "initial-excuse",
   "metadata": {},
   "outputs": [
    {
     "data": {
      "text/plain": [
       "2          0.456790\n",
       "0          0.197531\n",
       "3          0.098765\n",
       "1          0.061728\n",
       "4          0.024691\n",
       "11         0.024691\n",
       "432        0.012346\n",
       "223        0.012346\n",
       "333        0.012346\n",
       "54         0.012346\n",
       "434        0.012346\n",
       "24         0.012346\n",
       "2535334    0.012346\n",
       "34         0.012346\n",
       "30000      0.012346\n",
       "5          0.012346\n",
       "123        0.012346\n",
       "dtype: float64"
      ]
     },
     "execution_count": 5,
     "metadata": {},
     "output_type": "execute_result"
    }
   ],
   "source": [
    "prob"
   ]
  },
  {
   "cell_type": "code",
   "execution_count": 6,
   "id": "statutory-textbook",
   "metadata": {},
   "outputs": [
    {
     "data": {
      "text/plain": [
       "2     0.456790\n",
       "0     0.197531\n",
       "3     0.098765\n",
       "1     0.061728\n",
       "4     0.024691\n",
       "11    0.024691\n",
       "dtype: float64"
      ]
     },
     "execution_count": 6,
     "metadata": {},
     "output_type": "execute_result"
    }
   ],
   "source": [
    "prob1"
   ]
  },
  {
   "cell_type": "code",
   "execution_count": 7,
   "id": "korean-medicaid",
   "metadata": {},
   "outputs": [
    {
     "data": {
      "text/plain": [
       "0.13580246913580246"
      ]
     },
     "execution_count": 7,
     "metadata": {},
     "output_type": "execute_result"
    }
   ],
   "source": [
    "tail_prob"
   ]
  },
  {
   "cell_type": "code",
   "execution_count": 8,
   "id": "nearby-steps",
   "metadata": {},
   "outputs": [
    {
     "data": {
      "text/plain": [
       "2        0.456790\n",
       "0        0.197531\n",
       "3        0.098765\n",
       "1        0.061728\n",
       "4        0.024691\n",
       "11       0.024691\n",
       "other    0.135802\n",
       "dtype: float64"
      ]
     },
     "execution_count": 8,
     "metadata": {},
     "output_type": "execute_result"
    }
   ],
   "source": [
    "prob1['other'] = tail_prob\n",
    "prob1"
   ]
  },
  {
   "cell_type": "code",
   "execution_count": null,
   "id": "wired-wallace",
   "metadata": {},
   "outputs": [],
   "source": []
  }
 ],
 "metadata": {
  "kernelspec": {
   "display_name": "Python 3",
   "language": "python",
   "name": "python3"
  },
  "language_info": {
   "codemirror_mode": {
    "name": "ipython",
    "version": 3
   },
   "file_extension": ".py",
   "mimetype": "text/x-python",
   "name": "python",
   "nbconvert_exporter": "python",
   "pygments_lexer": "ipython3",
   "version": "3.8.8"
  },
  "toc": {
   "base_numbering": 1,
   "nav_menu": {},
   "number_sections": true,
   "sideBar": true,
   "skip_h1_title": false,
   "title_cell": "Table of Contents",
   "title_sidebar": "Contents",
   "toc_cell": false,
   "toc_position": {},
   "toc_section_display": true,
   "toc_window_display": false
  }
 },
 "nbformat": 4,
 "nbformat_minor": 5
}
